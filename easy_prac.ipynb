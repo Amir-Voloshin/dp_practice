{
    "cells": [
        {
            "cell_type": "markdown",
            "metadata": {},
            "source": [
                "# Fibonacci"
            ]
        },
        {
            "cell_type": "code",
            "execution_count": 1,
            "metadata": {},
            "outputs": [
                {
                    "name": "stdout",
                    "output_type": "stream",
                    "text": [
                        "6.11 µs ± 14.2 ns per loop (mean ± std. dev. of 7 runs, 100,000 loops each)\n"
                    ]
                }
            ],
            "source": [
                "# Recursive Method\n",
                "def fibr(n):\n",
                "    if n == 0:\n",
                "        return 0\n",
                "    if n == 1:\n",
                "        return 1\n",
                "    else:\n",
                "        return fibr(n - 1) + fibr(n - 2)\n",
                "\n",
                "%timeit fibr(8)\n",
                "#[fibr(n) for n in range(15)]"
            ]
        },
        {
            "cell_type": "code",
            "execution_count": 2,
            "metadata": {},
            "outputs": [
                {
                    "name": "stdout",
                    "output_type": "stream",
                    "text": [
                        "933 ns ± 4.09 ns per loop (mean ± std. dev. of 7 runs, 1,000,000 loops each)\n"
                    ]
                }
            ],
            "source": [
                "# Memoization Method\n",
                "def fibm(n):\n",
                "    lst = [0, 1]\n",
                "    if n == 0 or n == 1:\n",
                "        return lst[n]\n",
                "    else:\n",
                "        for i in range(2, n + 1):\n",
                "            lst.append(lst[i - 1] + lst[i - 2])\n",
                "        return lst[n]\n",
                "\n",
                "%timeit fibm(8)\n",
                "#[fibm(n) for n in range(15)]"
            ]
        },
        {
            "cell_type": "code",
            "execution_count": 3,
            "metadata": {},
            "outputs": [
                {
                    "name": "stdout",
                    "output_type": "stream",
                    "text": [
                        "[8, 7, 6, 5, 4, 3, 2, 2, 3, 2, 4, 3, 2, 2, 5, 4, 3, 2, 2, 3, 2, 6, 5, 4, 3, 2, 2, 3, 2, 4, 3, 2, 2]\n"
                    ]
                }
            ],
            "source": [
                "# Recursive Method\n",
                "def fibr_(n, call_lst):\n",
                "    if n == 0:\n",
                "        return 0\n",
                "    if n == 1:\n",
                "        return 1\n",
                "    else:\n",
                "        call_lst.append(n)\n",
                "        return fibr_(n - 1, call_lst) + fibr_(n - 2, call_lst)\n",
                "    \n",
                "cl = []\n",
                "fibr_(8, cl)\n",
                "print(cl)"
            ]
        },
        {
            "cell_type": "code",
            "execution_count": 4,
            "metadata": {},
            "outputs": [
                {
                    "name": "stdout",
                    "output_type": "stream",
                    "text": [
                        "140 ns ± 0.209 ns per loop (mean ± std. dev. of 7 runs, 10,000,000 loops each)\n"
                    ]
                }
            ],
            "source": [
                "# Recursive Method\n",
                "def fibr_memo(n, memo_dct, call_lst):\n",
                "    if n == 0:\n",
                "        return 0\n",
                "    if n == 1:\n",
                "        return 1\n",
                "    if n in memo_dct: return memo_dct[n]\n",
                "    else:\n",
                "        call_lst.append(n)\n",
                "        memo_dct[n] = fibr_memo(n - 1, memo_dct, call_lst) + fibr_memo(n - 2, memo_dct, call_lst)\n",
                "        return memo_dct[n]\n",
                "    \n",
                "cl = []\n",
                "md = {}\n",
                "%timeit fibr_memo(8, md, cl)\n",
                "#print(cl)"
            ]
        },
        {
            "cell_type": "markdown",
            "metadata": {},
            "source": [
                "# nth Catalan Number"
            ]
        },
        {
            "cell_type": "code",
            "execution_count": 5,
            "metadata": {},
            "outputs": [
                {
                    "data": {
                        "text/plain": [
                            "1430"
                        ]
                    },
                    "execution_count": 5,
                    "metadata": {},
                    "output_type": "execute_result"
                }
            ],
            "source": [
                "# Recursive Method\n",
                "def catr(n):\n",
                "    if n == 0 or n == 1:\n",
                "        return 1\n",
                "    else:\n",
                "        return sum([catr(i)*catr(n-i-1) for i in range(n)])\n",
                "    \n",
                "catr(8) # 1430"
            ]
        },
        {
            "cell_type": "code",
            "execution_count": 6,
            "metadata": {},
            "outputs": [
                {
                    "data": {
                        "text/plain": [
                            "1430"
                        ]
                    },
                    "execution_count": 6,
                    "metadata": {},
                    "output_type": "execute_result"
                }
            ],
            "source": [
                "# Memoization Method\n",
                "def catm(n):\n",
                "    lst = [0]*(n+1)\n",
                "    lst[0] = 1\n",
                "    lst[1] = 1\n",
                "\n",
                "    for i in range(2, n + 1):\n",
                "        for j in range(i):\n",
                "            lst[i] += lst[j]*lst[i - j - 1]\n",
                "            \n",
                "    return lst[n]\n",
                "    \n",
                "catm(8)"
            ]
        },
        {
            "cell_type": "markdown",
            "metadata": {},
            "source": [
                "# Coin Change Problem\n",
                "Given an integer array of coins[ ] of size N representing different types of denominations and an integer sum, the task is to count the number of coins required to make a given value sum.  \n",
                "\n",
                "Note: Assume that you have an infinite supply of each type of coin. "
            ]
        },
        {
            "cell_type": "code",
            "execution_count": 42,
            "metadata": {},
            "outputs": [
                {
                    "name": "stdout",
                    "output_type": "stream",
                    "text": [
                        "4\n",
                        "8.89 µs ± 10.1 ns per loop (mean ± std. dev. of 7 runs, 100,000 loops each)\n"
                    ]
                }
            ],
            "source": [
                "# Recursive Method\n",
                "def changer(sum, coins, n):\n",
                "\n",
                "    # If sum is 0 then the only solution is no coin (one solution)\n",
                "    if sum == 0:\n",
                "        return 1\n",
                "    \n",
                "    # If there are no coins to choose from or sum is negative\n",
                "    if n == 0 or sum < 0:\n",
                "        return 0\n",
                "    \n",
                "    return changer(sum, coins, n-1) + changer(sum - coins[n-1], coins, n)\n",
                "    \n",
                "print(changer(4, [1, 2, 3], 3))\n",
                "%timeit changer(10, [2, 5, 3, 6], 4)"
            ]
        },
        {
            "cell_type": "code",
            "execution_count": 43,
            "metadata": {},
            "outputs": [
                {
                    "name": "stdout",
                    "output_type": "stream",
                    "text": [
                        "4\n",
                        "738 ns ± 0.768 ns per loop (mean ± std. dev. of 7 runs, 1,000,000 loops each)\n"
                    ]
                }
            ],
            "source": [
                "# Memoization Method\n",
                "def changer(sum, coins, n, dp):\n",
                "\n",
                "    # If sum is 0 then the only solution is no coin (one solution)\n",
                "    if sum == 0:\n",
                "        return 1\n",
                "    \n",
                "    # If there are no coins to choose from or sum is negative\n",
                "    if n == 0 or sum < 0:\n",
                "        return 0\n",
                "    \n",
                "    if (sum, tuple(coins), n-1) not in dp.keys():\n",
                "        dp[(sum, tuple(coins), n-1)] = changer(sum, coins, n-1, dp)\n",
                "\n",
                "    if (sum - coins[n-1], tuple(coins), n) not in dp.keys():\n",
                "        dp[(sum - coins[n-1], tuple(coins), n)] = changer(sum - coins[n-1], coins, n, dp)\n",
                "\n",
                "    return dp[(sum, tuple(coins), n-1)] + dp[(sum - coins[n-1], tuple(coins), n)]\n",
                "\n",
                "dct = {}\n",
                "print(changer(4, [1, 2, 3], 3, dct))\n",
                "%timeit changer(10, [2, 5, 3, 6], 4, dct)"
            ]
        }
    ],
    "metadata": {
        "interpreter": {
            "hash": "cc831259e8f574347c2a4ec4140410f831257e6fdb6ffc9a4948f8039364ce83"
        },
        "kernelspec": {
            "display_name": "Python 3.9.18 64-bit ('base': conda)",
            "name": "python3"
        },
        "language_info": {
            "codemirror_mode": {
                "name": "ipython",
                "version": 3
            },
            "file_extension": ".py",
            "mimetype": "text/x-python",
            "name": "python",
            "nbconvert_exporter": "python",
            "pygments_lexer": "ipython3",
            "version": "3.9.18"
        },
        "orig_nbformat": 4
    },
    "nbformat": 4,
    "nbformat_minor": 2
}
